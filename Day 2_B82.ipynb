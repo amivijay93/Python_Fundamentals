{
 "cells": [
  {
   "cell_type": "code",
   "execution_count": 4,
   "id": "2c498e1a",
   "metadata": {
    "scrolled": true
   },
   "outputs": [
    {
     "name": "stdout",
     "output_type": "stream",
     "text": [
      "5\n"
     ]
    }
   ],
   "source": [
    "Introduction to Python programming:\n",
    "+++++++++++++++++++++++++++++++++++\n",
    "Introduction to variables in Python:\n",
    "Variables are place holders \n",
    "#Understanding variables in Python\n",
    "x=2\n",
    "y=3\n",
    "z=x+y\n",
    "print(z)"
   ]
  },
  {
   "cell_type": "code",
   "execution_count": null,
   "id": "5ed57b85",
   "metadata": {},
   "outputs": [],
   "source": [
    "Rules for declaring variables in Python\n",
    "=======================================\n",
    "Rule 1:A variable name should not contain name spaces in it."
   ]
  },
  {
   "cell_type": "code",
   "execution_count": 2,
   "id": "86b596ba",
   "metadata": {},
   "outputs": [
    {
     "ename": "SyntaxError",
     "evalue": "invalid syntax (<ipython-input-2-43336de5327a>, line 1)",
     "output_type": "error",
     "traceback": [
      "\u001b[1;36m  File \u001b[1;32m\"<ipython-input-2-43336de5327a>\"\u001b[1;36m, line \u001b[1;32m1\u001b[0m\n\u001b[1;33m    first name = 'Ami'\u001b[0m\n\u001b[1;37m          ^\u001b[0m\n\u001b[1;31mSyntaxError\u001b[0m\u001b[1;31m:\u001b[0m invalid syntax\n"
     ]
    }
   ],
   "source": [
    "first name = 'Ami'\n",
    "print(first name)"
   ]
  },
  {
   "cell_type": "code",
   "execution_count": 6,
   "id": "b526a121",
   "metadata": {},
   "outputs": [
    {
     "name": "stdout",
     "output_type": "stream",
     "text": [
      "Ami\n"
     ]
    }
   ],
   "source": [
    "#correct syntax:\n",
    "firstname = 'Ami'\n",
    "print(firstname)"
   ]
  },
  {
   "cell_type": "code",
   "execution_count": 8,
   "id": "5a9eb9e4",
   "metadata": {},
   "outputs": [
    {
     "name": "stdout",
     "output_type": "stream",
     "text": [
      "Ami\n"
     ]
    }
   ],
   "source": [
    "first_name = 'Ami'\n",
    "print(first_name)"
   ]
  },
  {
   "cell_type": "code",
   "execution_count": null,
   "id": "26827582",
   "metadata": {},
   "outputs": [],
   "source": [
    "Rule 2: Variable name should not start with number ** \n",
    "    Interview question: can a variable start with number? No\n",
    "                        can a variable end with number? Yes\n",
    "number can appear atlast of variable name"
   ]
  },
  {
   "cell_type": "code",
   "execution_count": 9,
   "id": "afd752e1",
   "metadata": {},
   "outputs": [
    {
     "ename": "SyntaxError",
     "evalue": "invalid syntax (<ipython-input-9-7b49bca22900>, line 1)",
     "output_type": "error",
     "traceback": [
      "\u001b[1;36m  File \u001b[1;32m\"<ipython-input-9-7b49bca22900>\"\u001b[1;36m, line \u001b[1;32m1\u001b[0m\n\u001b[1;33m    1name = 'ami'\u001b[0m\n\u001b[1;37m     ^\u001b[0m\n\u001b[1;31mSyntaxError\u001b[0m\u001b[1;31m:\u001b[0m invalid syntax\n"
     ]
    }
   ],
   "source": [
    "1name = 'ami'\n",
    "print(1name)\n",
    "wrong syntax"
   ]
  },
  {
   "cell_type": "code",
   "execution_count": 10,
   "id": "26072260",
   "metadata": {},
   "outputs": [
    {
     "name": "stdout",
     "output_type": "stream",
     "text": [
      "ami\n"
     ]
    }
   ],
   "source": [
    "#correct syntax\n",
    "name1 = 'ami'\n",
    "print(name1)"
   ]
  },
  {
   "cell_type": "code",
   "execution_count": null,
   "id": "20b6cab8",
   "metadata": {},
   "outputs": [],
   "source": [
    "Rule 3: Variable name should not contain any special characters\n",
    "! @ # $ ==>avoid using in variable declaration"
   ]
  },
  {
   "cell_type": "code",
   "execution_count": 5,
   "id": "c9a498dc",
   "metadata": {},
   "outputs": [
    {
     "ename": "SyntaxError",
     "evalue": "invalid syntax (<ipython-input-5-ccac378f269c>, line 1)",
     "output_type": "error",
     "traceback": [
      "\u001b[1;36m  File \u001b[1;32m\"<ipython-input-5-ccac378f269c>\"\u001b[1;36m, line \u001b[1;32m1\u001b[0m\n\u001b[1;33m    name@ = 'ami'\u001b[0m\n\u001b[1;37m          ^\u001b[0m\n\u001b[1;31mSyntaxError\u001b[0m\u001b[1;31m:\u001b[0m invalid syntax\n"
     ]
    }
   ],
   "source": [
    "name@ = 'ami'\n",
    "print(name@)"
   ]
  },
  {
   "cell_type": "code",
   "execution_count": null,
   "id": "744bf637",
   "metadata": {},
   "outputs": [],
   "source": [
    "Introduction to datatypes in Python:\n",
    "====================================\n",
    "\t1.String --> str\n",
    "\t2.Numbers --->integers (int) and floats-->decimals (float) eg. 0.1, 0.2\n",
    "\t3.Lists --> list\n",
    "\t4.Tuples --> tuple\n",
    "\t5.Dictionaries ---> dict\n",
    "    \n",
    "Note: Python is a case sensitive language\n",
    "    \n",
    "Classification of datatypes:\n",
    "============================\n",
    "Two categories: Mutable and immutable datatypes\n",
    "\n",
    "\t1.Mutable datatypes--> which we can edit or alter-->these are flexible in nature\n",
    "\t2.Immutable datatypes --> which we cannot edit or alter --> these are fixed in nature\n",
    " \n",
    "Introduction to string datatype:\n",
    "================================\n",
    "Definition:String is a series of characters declared in quotes\n",
    "classification:it is classified as an immutable datatype\n",
    "How to declare string: 3 approaches\n",
    "\t1.single quotes\n",
    "\t2.double quotes"
   ]
  },
  {
   "cell_type": "code",
   "execution_count": 12,
   "id": "2aa98e69",
   "metadata": {},
   "outputs": [
    {
     "name": "stdout",
     "output_type": "stream",
     "text": [
      "ami\n"
     ]
    }
   ],
   "source": [
    "name1 = 'ami'  # Single quote\n",
    "print(name1)"
   ]
  },
  {
   "cell_type": "code",
   "execution_count": 13,
   "id": "58cff655",
   "metadata": {},
   "outputs": [
    {
     "name": "stdout",
     "output_type": "stream",
     "text": [
      "ami\n"
     ]
    }
   ],
   "source": [
    "name1 = \"ami\"    #double quotes\n",
    "print(name1)"
   ]
  },
  {
   "cell_type": "code",
   "execution_count": null,
   "id": "1f51b9c5",
   "metadata": {},
   "outputs": [],
   "source": []
  },
  {
   "cell_type": "code",
   "execution_count": 15,
   "id": "d23d2781",
   "metadata": {},
   "outputs": [],
   "source": [
    "# is used for commenting the code and will not impact execution"
   ]
  },
  {
   "cell_type": "code",
   "execution_count": null,
   "id": "517fbe2e",
   "metadata": {
    "scrolled": true
   },
   "outputs": [],
   "source": [
    "\n"
   ]
  },
  {
   "cell_type": "code",
   "execution_count": null,
   "id": "aa3e62d3",
   "metadata": {},
   "outputs": [],
   "source": []
  },
  {
   "cell_type": "code",
   "execution_count": null,
   "id": "f0a5bb0b",
   "metadata": {},
   "outputs": [],
   "source": []
  }
 ],
 "metadata": {
  "kernelspec": {
   "display_name": "Python 3",
   "language": "python",
   "name": "python3"
  },
  "language_info": {
   "codemirror_mode": {
    "name": "ipython",
    "version": 3
   },
   "file_extension": ".py",
   "mimetype": "text/x-python",
   "name": "python",
   "nbconvert_exporter": "python",
   "pygments_lexer": "ipython3",
   "version": "3.8.8"
  }
 },
 "nbformat": 4,
 "nbformat_minor": 5
}
