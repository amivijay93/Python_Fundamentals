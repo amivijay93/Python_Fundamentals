{
 "cells": [
  {
   "cell_type": "code",
   "execution_count": null,
   "id": "a65561f1",
   "metadata": {},
   "outputs": [],
   "source": [
    "Introduction to list datatype:\n",
    "==============================\n",
    "Definition: A list is a collection of items defined in a particular order.\n",
    "    \n",
    "Classification:Lists are classified as mutable datatypes(which we can edit or alter)\n",
    "    \n",
    "How to define the list? --> [] ==> by using square brackets.    "
   ]
  },
  {
   "cell_type": "code",
   "execution_count": 2,
   "id": "81d642d0",
   "metadata": {},
   "outputs": [
    {
     "name": "stdout",
     "output_type": "stream",
     "text": [
      "['amritha', 'soumya', 'naveen', 'john', 'indu']\n"
     ]
    }
   ],
   "source": [
    "Students = ['amritha','soumya','naveen','john', 'indu'] #0,1,2,3,4,5\n",
    "print(Students)"
   ]
  },
  {
   "cell_type": "code",
   "execution_count": 3,
   "id": "2331d6c8",
   "metadata": {},
   "outputs": [
    {
     "data": {
      "text/plain": [
       "list"
      ]
     },
     "execution_count": 3,
     "metadata": {},
     "output_type": "execute_result"
    }
   ],
   "source": [
    "type(Students) #Validate datatype"
   ]
  },
  {
   "cell_type": "code",
   "execution_count": null,
   "id": "3389dd0b",
   "metadata": {},
   "outputs": [],
   "source": [
    "Introduction to indexing:\n",
    "=========================\n",
    "Order in list is maintained by using the concept of indexing.\n",
    "\n",
    "While defining the list certain numbers will be allocated in the back end.\n",
    "eg:0,1,2,3...\n",
    "    \n",
    "    "
   ]
  },
  {
   "cell_type": "code",
   "execution_count": 4,
   "id": "a7a4aa2f",
   "metadata": {},
   "outputs": [
    {
     "name": "stdout",
     "output_type": "stream",
     "text": [
      "naveen\n"
     ]
    }
   ],
   "source": [
    "#req: want to access naveen name in the output\n",
    "print(Students[2])\n"
   ]
  },
  {
   "cell_type": "code",
   "execution_count": 7,
   "id": "65bc528c",
   "metadata": {},
   "outputs": [
    {
     "name": "stdout",
     "output_type": "stream",
     "text": [
      "Indu\n"
     ]
    }
   ],
   "source": [
    "#req: want to access indu name in the output\n",
    "print(Students[4].title())"
   ]
  },
  {
   "cell_type": "markdown",
   "id": "30e23149",
   "metadata": {},
   "source": []
  },
  {
   "cell_type": "code",
   "execution_count": null,
   "id": "b9899e21",
   "metadata": {},
   "outputs": [],
   "source": [
    "1.How to add new elements to the list\n",
    "\n",
    "2. How to modify elements in a list\n",
    "\n",
    "3.How to delete elements in a list"
   ]
  },
  {
   "cell_type": "code",
   "execution_count": 7,
   "id": "b77a4676",
   "metadata": {},
   "outputs": [
    {
     "name": "stdout",
     "output_type": "stream",
     "text": [
      "['amritha', 'soumya', 'naveen', 'john', 'indu', 'suman']\n"
     ]
    }
   ],
   "source": [
    "#req: to add suman to the list\n",
    "\n",
    "Students.append('suman')\n",
    "print(Students)"
   ]
  },
  {
   "cell_type": "code",
   "execution_count": null,
   "id": "b3090b36",
   "metadata": {},
   "outputs": [],
   "source": [
    "#req: to add tharun to the list"
   ]
  },
  {
   "cell_type": "code",
   "execution_count": 8,
   "id": "f8373a78",
   "metadata": {},
   "outputs": [
    {
     "name": "stdout",
     "output_type": "stream",
     "text": [
      "['amritha', 'soumya', 'naveen', 'john', 'indu', 'suman', 'tharun']\n"
     ]
    }
   ],
   "source": [
    "Students.append('tharun')\n",
    "print(Students)"
   ]
  },
  {
   "cell_type": "code",
   "execution_count": null,
   "id": "18c6f01f",
   "metadata": {},
   "outputs": [],
   "source": [
    "append()===>when ever names are added using this method, names are added to the last"
   ]
  },
  {
   "cell_type": "code",
   "execution_count": 10,
   "id": "e7eff6f6",
   "metadata": {},
   "outputs": [
    {
     "name": "stdout",
     "output_type": "stream",
     "text": [
      "['amritha', 'soumya', 'kumar', 'naveen', 'john', 'indu', 'suman', 'tharun']\n"
     ]
    }
   ],
   "source": [
    "#req: to add kumar in the 2nd position\n",
    "Students.insert(2,'kumar')\n",
    "print(Students)"
   ]
  },
  {
   "cell_type": "code",
   "execution_count": 11,
   "id": "454ca089",
   "metadata": {},
   "outputs": [
    {
     "name": "stdout",
     "output_type": "stream",
     "text": [
      "kumar\n"
     ]
    }
   ],
   "source": [
    "print(Students[2])"
   ]
  },
  {
   "cell_type": "code",
   "execution_count": null,
   "id": "fa72b023",
   "metadata": {},
   "outputs": [],
   "source": [
    " **Interview question: what is the difference between append and insert method in a list?\n",
    "append()===>when ever names are added using this method, names are added to the last\n",
    "insert()===> used to insert names in between on a particular position"
   ]
  },
  {
   "cell_type": "code",
   "execution_count": 21,
   "id": "52d4128e",
   "metadata": {},
   "outputs": [
    {
     "name": "stdout",
     "output_type": "stream",
     "text": [
      "['amritha', 'soumya', 'kumar', 'naveena', 'john', 'indu', 'suman', 'tharun']\n"
     ]
    }
   ],
   "source": [
    "#req: to modify name naveen to naveena \n",
    "Students[3] = 'naveena'\n",
    "print(Students)"
   ]
  },
  {
   "cell_type": "code",
   "execution_count": 22,
   "id": "bb5b5c7d",
   "metadata": {},
   "outputs": [
    {
     "name": "stdout",
     "output_type": "stream",
     "text": [
      "['amritha', 'soumya', 'kumar', 'naveena', 'john', 'suman', 'tharun']\n"
     ]
    }
   ],
   "source": [
    "#req: to delete indu from the list\n",
    "del Students[5]\n",
    "print(Students)"
   ]
  },
  {
   "cell_type": "code",
   "execution_count": null,
   "id": "a265fc6b",
   "metadata": {},
   "outputs": [],
   "source": []
  },
  {
   "cell_type": "code",
   "execution_count": null,
   "id": "996f4a22",
   "metadata": {},
   "outputs": [],
   "source": []
  }
 ],
 "metadata": {
  "kernelspec": {
   "display_name": "Python 3",
   "language": "python",
   "name": "python3"
  },
  "language_info": {
   "codemirror_mode": {
    "name": "ipython",
    "version": 3
   },
   "file_extension": ".py",
   "mimetype": "text/x-python",
   "name": "python",
   "nbconvert_exporter": "python",
   "pygments_lexer": "ipython3",
   "version": "3.8.8"
  }
 },
 "nbformat": 4,
 "nbformat_minor": 5
}
