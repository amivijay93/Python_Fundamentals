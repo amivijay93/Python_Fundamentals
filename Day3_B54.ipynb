{
 "cells": [
  {
   "cell_type": "code",
   "execution_count": null,
   "id": "c9070da5",
   "metadata": {},
   "outputs": [],
   "source": [
    "Continuation of strings:\n",
    "    Introduction to string methods:\n",
    "    \n",
    "    Methods are build in programs that are available for use.\n",
    "    type ==> it will be used to validate data type"
   ]
  },
  {
   "cell_type": "code",
   "execution_count": 6,
   "id": "5b9ea5e4",
   "metadata": {},
   "outputs": [
    {
     "name": "stdout",
     "output_type": "stream",
     "text": [
      "amritha vijayan\n"
     ]
    }
   ],
   "source": [
    "full_name = 'amritha vijayan'\n",
    "print(full_name)\n"
   ]
  },
  {
   "cell_type": "code",
   "execution_count": 2,
   "id": "2008fe9a",
   "metadata": {},
   "outputs": [
    {
     "data": {
      "text/plain": [
       "str"
      ]
     },
     "execution_count": 2,
     "metadata": {},
     "output_type": "execute_result"
    }
   ],
   "source": [
    "type(full_name)"
   ]
  },
  {
   "cell_type": "code",
   "execution_count": 7,
   "id": "1dd417c0",
   "metadata": {},
   "outputs": [
    {
     "name": "stdout",
     "output_type": "stream",
     "text": [
      "Amritha Vijayan\n"
     ]
    }
   ],
   "source": [
    "#to print first letter of word in capitals\n",
    "print(full_name.title())"
   ]
  },
  {
   "cell_type": "code",
   "execution_count": null,
   "id": "1a9717d8",
   "metadata": {},
   "outputs": [],
   "source": [
    "title() ------>convert the first letter of word to capital letter"
   ]
  },
  {
   "cell_type": "code",
   "execution_count": 8,
   "id": "35250f64",
   "metadata": {},
   "outputs": [
    {
     "name": "stdout",
     "output_type": "stream",
     "text": [
      "AMRITHA VIJAYAN\n"
     ]
    }
   ],
   "source": [
    "#print entire name in capitals\n",
    "\n",
    "print(full_name.upper())"
   ]
  },
  {
   "cell_type": "code",
   "execution_count": 9,
   "id": "32458258",
   "metadata": {},
   "outputs": [
    {
     "name": "stdout",
     "output_type": "stream",
     "text": [
      "amritha vijayan\n"
     ]
    }
   ],
   "source": [
    "#print name in small letters\n",
    "\n",
    "print(full_name.lower())"
   ]
  },
  {
   "cell_type": "code",
   "execution_count": null,
   "id": "d81b52ad",
   "metadata": {},
   "outputs": [],
   "source": [
    "Introduction to f strings:"
   ]
  },
  {
   "cell_type": "code",
   "execution_count": 5,
   "id": "9620ae52",
   "metadata": {},
   "outputs": [],
   "source": [
    "first_name = 'amritha'\n",
    "last_name = 'vijayan'"
   ]
  },
  {
   "cell_type": "code",
   "execution_count": null,
   "id": "95b89c12",
   "metadata": {},
   "outputs": [],
   "source": [
    "# requirement is to print full name\n"
   ]
  },
  {
   "cell_type": "code",
   "execution_count": null,
   "id": "2012e2b4",
   "metadata": {},
   "outputs": [],
   "source": [
    "#syntax of f strings:\n",
    "f\" custom words {placeholder1} {placeholder2}..... ..{placeholdern}\""
   ]
  },
  {
   "cell_type": "code",
   "execution_count": 6,
   "id": "b52f8837",
   "metadata": {
    "scrolled": true
   },
   "outputs": [
    {
     "name": "stdout",
     "output_type": "stream",
     "text": [
      "amritha vijayan\n"
     ]
    }
   ],
   "source": [
    "full_name = f\"{first_name} {last_name}\"\n",
    "print(full_name)"
   ]
  },
  {
   "cell_type": "code",
   "execution_count": 8,
   "id": "f08d09d5",
   "metadata": {},
   "outputs": [
    {
     "name": "stdout",
     "output_type": "stream",
     "text": [
      "Amritha Vijayan\n"
     ]
    }
   ],
   "source": [
    "print(full_name.title())"
   ]
  },
  {
   "cell_type": "code",
   "execution_count": 9,
   "id": "34c60311",
   "metadata": {},
   "outputs": [
    {
     "name": "stdout",
     "output_type": "stream",
     "text": [
      "AMRITHA VIJAYAN\n"
     ]
    }
   ],
   "source": [
    "print(full_name.upper())"
   ]
  },
  {
   "cell_type": "code",
   "execution_count": 10,
   "id": "ddde68b2",
   "metadata": {},
   "outputs": [
    {
     "name": "stdout",
     "output_type": "stream",
     "text": [
      "keep up the good work, Amritha Vijayan\n"
     ]
    }
   ],
   "source": [
    "print(f\"keep up the good work, {full_name.title()}\")"
   ]
  },
  {
   "cell_type": "code",
   "execution_count": 28,
   "id": "d4714ffc",
   "metadata": {},
   "outputs": [
    {
     "name": "stdout",
     "output_type": "stream",
     "text": [
      "Fav_Prog_Language:PythonC++CobalPascalJava\n"
     ]
    }
   ],
   "source": [
    "#Adding white spaces to strings(\\n and \\t):\n",
    "print(\"Fav_Prog_Language:PythonC++CobalPascalJava\")    \n",
    "    "
   ]
  },
  {
   "cell_type": "code",
   "execution_count": 29,
   "id": "8d4c3f12",
   "metadata": {},
   "outputs": [
    {
     "name": "stdout",
     "output_type": "stream",
     "text": [
      "Fav_Prog_Language:\n",
      "Python\n",
      "C++\n",
      "Cobal\n",
      "Pascal\n",
      "Java\n"
     ]
    }
   ],
   "source": [
    "print(\"Fav_Prog_Language:\\nPython\\nC++\\nCobal\\nPascal\\nJava\")  "
   ]
  },
  {
   "cell_type": "code",
   "execution_count": null,
   "id": "e2095327",
   "metadata": {},
   "outputs": [],
   "source": [
    "\\n is a new line delimiter\n",
    "\\t  is tab delimiter"
   ]
  },
  {
   "cell_type": "code",
   "execution_count": 30,
   "id": "0dcb29ae",
   "metadata": {},
   "outputs": [
    {
     "name": "stdout",
     "output_type": "stream",
     "text": [
      "Fav_Prog_Language:\n",
      "\tPython\n",
      "\tC++\n",
      "\tCobal\n",
      "\tPascal\n",
      "\tJava\n"
     ]
    }
   ],
   "source": [
    "print(\"Fav_Prog_Language:\\n\\tPython\\n\\tC++\\n\\tCobal\\n\\tPascal\\n\\tJava\")  "
   ]
  },
  {
   "cell_type": "code",
   "execution_count": 35,
   "id": "fc5a1b06",
   "metadata": {},
   "outputs": [
    {
     "name": "stdout",
     "output_type": "stream",
     "text": [
      "Python\n"
     ]
    }
   ],
   "source": [
    "#Removing white spaces from the strings:\n",
    "language1 = 'Python'\n",
    "print(language1)"
   ]
  },
  {
   "cell_type": "code",
   "execution_count": 38,
   "id": "f44bea48",
   "metadata": {},
   "outputs": [
    {
     "name": "stdout",
     "output_type": "stream",
     "text": [
      " Java\n"
     ]
    }
   ],
   "source": [
    "language2 = ' Java'\n",
    "print(language2)"
   ]
  },
  {
   "cell_type": "code",
   "execution_count": 37,
   "id": "ce807cdb",
   "metadata": {},
   "outputs": [
    {
     "name": "stdout",
     "output_type": "stream",
     "text": [
      "C++ \n"
     ]
    }
   ],
   "source": [
    "language3 = 'C++ '\n",
    "print(language3)"
   ]
  },
  {
   "cell_type": "code",
   "execution_count": null,
   "id": "357a73d5",
   "metadata": {},
   "outputs": [],
   "source": [
    "these whitespaces will consume the storage and needs to be removed"
   ]
  },
  {
   "cell_type": "code",
   "execution_count": 39,
   "id": "9d93f33b",
   "metadata": {},
   "outputs": [
    {
     "data": {
      "text/plain": [
       "'Java'"
      ]
     },
     "execution_count": 39,
     "metadata": {},
     "output_type": "execute_result"
    }
   ],
   "source": [
    "language2.lstrip() #left side stripping"
   ]
  },
  {
   "cell_type": "code",
   "execution_count": 41,
   "id": "a47e83be",
   "metadata": {},
   "outputs": [
    {
     "data": {
      "text/plain": [
       "'C++'"
      ]
     },
     "execution_count": 41,
     "metadata": {},
     "output_type": "execute_result"
    }
   ],
   "source": [
    "language3.rstrip() #right side stripping"
   ]
  },
  {
   "cell_type": "code",
   "execution_count": 42,
   "id": "57808fb1",
   "metadata": {},
   "outputs": [
    {
     "name": "stdout",
     "output_type": "stream",
     "text": [
      " amritha \n"
     ]
    }
   ],
   "source": [
    "name = ' amritha '\n",
    "print(name)"
   ]
  },
  {
   "cell_type": "code",
   "execution_count": 43,
   "id": "1e158bb7",
   "metadata": {},
   "outputs": [
    {
     "data": {
      "text/plain": [
       "'amritha'"
      ]
     },
     "execution_count": 43,
     "metadata": {},
     "output_type": "execute_result"
    }
   ],
   "source": [
    "name.strip() #both side stripping"
   ]
  },
  {
   "cell_type": "code",
   "execution_count": null,
   "id": "8166edf1",
   "metadata": {},
   "outputs": [],
   "source": [
    "why strip() is not used for above cases lstrip() and rstrip()?==>this consumes time during execution, it could be milliseconds but it has an impact\n",
    "on production environment.\n",
    "2 steps involved-->search and then eliminating space\n",
    "if 1 and r is used it straight away eliminate the respective side\n"
   ]
  }
 ],
 "metadata": {
  "kernelspec": {
   "display_name": "Python 3",
   "language": "python",
   "name": "python3"
  },
  "language_info": {
   "codemirror_mode": {
    "name": "ipython",
    "version": 3
   },
   "file_extension": ".py",
   "mimetype": "text/x-python",
   "name": "python",
   "nbconvert_exporter": "python",
   "pygments_lexer": "ipython3",
   "version": "3.8.8"
  }
 },
 "nbformat": 4,
 "nbformat_minor": 5
}
